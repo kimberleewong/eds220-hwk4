{
 "cells": [
  {
   "cell_type": "markdown",
   "id": "3075690a-d243-42aa-9663-ccb7d296b750",
   "metadata": {},
   "source": [
    "# Task 2: Visualizing Fire Scars Through False Color\n",
    "\n",
    "## About the data\n",
    "In this task you will use two datsets. The first is a simplified collection of bands (red, green, blue, near-infrared and shortwave infrared) from the Landsat Collection 2 Level-2 atmosperically corrected surface reflectance data, collected by the Landsat 8 satellite.\n",
    "\n",
    "The data was retrieved from the Microsof Planetary Computer data catalogue and pre-processed to remove data outside land and coarsen the spatial resolution. This data should be used for visualization and educational purposes only and can be accessed at this path within workbench-1:\n",
    "\n",
    "/courses/EDS220/data/hwk4_landsat_data landsat8-2018-01-26-sb-simplified.nc\n",
    "\n",
    "The second dataset will be historical open-access data about fire perimeters in California. There are several datasets with this information online. You will need to select one from a reputable source that includes the fire perimeter of the Thomas Fire during 2017.\n",
    "\n",
    "https://github.com/kimberleewong/eds220-hwk4"
   ]
  },
  {
   "cell_type": "markdown",
   "id": "bd908e26-2d03-4f73-a97a-bdbffc24c070",
   "metadata": {},
   "source": [
    "## 1. Import libraries"
   ]
  },
  {
   "cell_type": "code",
   "execution_count": 2,
   "id": "ac2cccdc-00f8-4d12-8dfd-06359055f253",
   "metadata": {
    "tags": []
   },
   "outputs": [],
   "source": [
    "import pandas as pd\n",
    "import geopandas as gpd\n",
    "import numpy as np\n",
    "import os\n",
    "import matplotlib.pyplot as plt"
   ]
  },
  {
   "cell_type": "markdown",
   "id": "5e8fb75d-5a7b-4995-992c-6336a845068d",
   "metadata": {},
   "source": [
    "## 2. Import data "
   ]
  },
  {
   "cell_type": "code",
   "execution_count": 4,
   "id": "b44e3a47-8fb6-4ac8-baa7-7f45a5aa64e0",
   "metadata": {},
   "outputs": [],
   "source": [
    "# Use a filepath to import geodata\n",
    "california_fire_peri = gpd.read_file(os.path.join('data', 'California_Fire_Perimeters_1379327890478655659', 'California_Fire_Perimeters_(all).shp'))"
   ]
  },
  {
   "cell_type": "markdown",
   "id": "60eac32e-485c-44e8-af8a-3a26b0684bd9",
   "metadata": {},
   "source": [
    "## 3. Explore Data"
   ]
  },
  {
   "cell_type": "code",
   "execution_count": 8,
   "id": "f0ef2651-b562-47eb-83d7-c82dac3b9658",
   "metadata": {
    "tags": []
   },
   "outputs": [
    {
     "name": "stdout",
     "output_type": "stream",
     "text": [
      "CRS: epsg:3857\n",
      "Is this CRS projected?  True\n"
     ]
    }
   ],
   "source": [
    "print(f\"CRS: {california_fire_peri.crs}\")\n",
    "\n",
    "print('Is this CRS projected? ', california_fire_peri.crs.is_projected)"
   ]
  },
  {
   "cell_type": "code",
   "execution_count": null,
   "id": "7da45a60-e2f0-4435-9a2d-2f0ba1e3b699",
   "metadata": {},
   "outputs": [],
   "source": [
    "california_fire_peri.head(3)\n"
   ]
  }
 ],
 "metadata": {
  "kernelspec": {
   "display_name": "Anaconda 3 (Base)",
   "language": "python",
   "name": "base"
  },
  "language_info": {
   "codemirror_mode": {
    "name": "ipython",
    "version": 3
   },
   "file_extension": ".py",
   "mimetype": "text/x-python",
   "name": "python",
   "nbconvert_exporter": "python",
   "pygments_lexer": "ipython3",
   "version": "3.9.13"
  }
 },
 "nbformat": 4,
 "nbformat_minor": 5
}
